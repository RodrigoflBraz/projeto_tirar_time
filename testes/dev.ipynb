{
 "cells": [
  {
   "cell_type": "code",
   "execution_count": 109,
   "metadata": {},
   "outputs": [],
   "source": [
    "from random import shuffle\n",
    "\n",
    "def instanciar_times_sem_nota(quantidade_de_times: int, quantidade_players_por_time: int)->list:\n",
    "    players = []\n",
    "    total_jogadores = quantidade_de_times * quantidade_players_por_time\n",
    "\n",
    "    for i in range(total_jogadores):\n",
    "        nome = input(\"Digite o nome do jogador: \")\n",
    "        players.append(nome)  \n",
    "    return players\n",
    "\n",
    "def instanciar_times_com_nota(quantidade_de_times: int, quantidade_players_por_time: int)->list[tuple]:\n",
    "    players = []\n",
    "    total_jogadores = quantidade_de_times * quantidade_players_por_time\n",
    "\n",
    "    for i in range(total_jogadores):\n",
    "        nome = input(\"Digite o nome do jogador: \")\n",
    "        nota = int(input(\"Digite a nota do jogador: \"))\n",
    "        player = (nome, nota)\n",
    "        players.append(player)  \n",
    "\n",
    "    return players\n",
    "\n",
    "\n",
    "def sortear_times_sem_nota(players: list, quantidade_de_times: int, quantidade_players_por_time: int)->list[list]:\n",
    "\n",
    "    shuffle(players)\n",
    "    times = []\n",
    "    for i in range(quantidade_de_times):\n",
    "        time = []\n",
    "        for j in range(quantidade_players_por_time):\n",
    "            time.append(players.pop())\n",
    "        times.append(time)\n",
    "    return times\n",
    "\n",
    "def sortear_times_com_nota(players: list[tuple], quantidade_de_times: int, quantidade_players_por_time: int)->list[list]:\n",
    "    times = [[] for i in range(quantidade_de_times)]\n",
    "    valor_de_cada_time = [{i : 0} for i in range(quantidade_de_times)]\n",
    "    players.sort(key=lambda x: x[1], reverse=True)\n",
    "\n",
    "    for i in range(quantidade_de_times):\n",
    "        player = players.pop(0)\n",
    "        print(player)\n",
    "        valor_de_cada_time[i][i] += player[1]\n",
    "        \n",
    "        times[i].append(player)\n",
    "\n",
    "    valor_de_cada_time.sort(key=lambda x: list(x.values())[0], reverse=False)\n",
    "\n",
    "    for i in range(quantidade_players_por_time - 1):\n",
    "        ordem = [list(dicts.keys())[0] for dicts in valor_de_cada_time]\n",
    "\n",
    "        for index_loop, index_time in enumerate(ordem):\n",
    "            player = players.pop(0)\n",
    "            times[index_time].append(player)\n",
    "            valor_de_cada_time[index_loop][index_time] += player[1]\n",
    "        \n",
    "        valor_de_cada_time.sort(key=lambda x: list(x.values())[0], reverse=False)\n",
    "\n",
    "    return times\n",
    "\n",
    "\n",
    "\n",
    "\n",
    "\n",
    "\n"
   ]
  },
  {
   "cell_type": "code",
   "execution_count": 3,
   "metadata": {},
   "outputs": [],
   "source": [
    "deseja_atribuir_nota = False\n",
    "quantidade_de_times = 3\n",
    "quantidade_players_por_time = 5\n",
    "\n",
    "players = instanciar_times_sem_nota(quantidade_de_times, quantidade_players_por_time)\n",
    "times = sortear_times_sem_nota(players, quantidade_de_times, quantidade_players_por_time)\n",
    "\n"
   ]
  },
  {
   "cell_type": "code",
   "execution_count": 27,
   "metadata": {},
   "outputs": [],
   "source": [
    "timi = instanciar_times_com_nota(quantidade_de_times, quantidade_players_por_time)"
   ]
  },
  {
   "cell_type": "code",
   "execution_count": 110,
   "metadata": {},
   "outputs": [],
   "source": [
    "timi = [('Rodrigo', 4),\n",
    " ('Munas', 5),\n",
    " ('Erick', 4),\n",
    " ('Clovis', 3),\n",
    " ('Alvaro', 3),\n",
    " ('Ramon', 3),\n",
    " ('Fabegras', 5),\n",
    " ('naldo', 2),\n",
    " ('sk23', 4),\n",
    " ('asdajs', 2),\n",
    " ('sadjj', 3),\n",
    " ('askjdkj', 2),\n",
    " ('skdfgkhkhk', 4),\n",
    " ('aksdkasdksak', 1),\n",
    " ('askfksdkfksdfk', 2)]"
   ]
  },
  {
   "cell_type": "code",
   "execution_count": 111,
   "metadata": {},
   "outputs": [
    {
     "name": "stdout",
     "output_type": "stream",
     "text": [
      "('Munas', 5)\n",
      "('Fabegras', 5)\n",
      "('Rodrigo', 4)\n"
     ]
    }
   ],
   "source": [
    "a = sortear_times_com_nota(timi, quantidade_de_times, quantidade_players_por_time)"
   ]
  },
  {
   "cell_type": "code",
   "execution_count": 112,
   "metadata": {},
   "outputs": [
    {
     "name": "stdout",
     "output_type": "stream",
     "text": [
      "[('Munas', 5), ('sk23', 4), ('Alvaro', 3), ('naldo', 2), ('askfksdkfksdfk', 2)]\n",
      "[('Fabegras', 5), ('skdfgkhkhk', 4), ('Ramon', 3), ('asdajs', 2), ('aksdkasdksak', 1)]\n",
      "[('Rodrigo', 4), ('Erick', 4), ('Clovis', 3), ('sadjj', 3), ('askjdkj', 2)]\n"
     ]
    }
   ],
   "source": [
    "for time in a:\n",
    "    print(time)"
   ]
  },
  {
   "cell_type": "code",
   "execution_count": 107,
   "metadata": {},
   "outputs": [
    {
     "data": {
      "text/plain": [
       "[('sadjj', 3),\n",
       " ('naldo', 2),\n",
       " ('asdajs', 2),\n",
       " ('askjdkj', 2),\n",
       " ('askfksdkfksdfk', 2),\n",
       " ('aksdkasdksak', 1)]"
      ]
     },
     "execution_count": 107,
     "metadata": {},
     "output_type": "execute_result"
    }
   ],
   "source": [
    "16\n",
    "15\n",
    "16\n"
   ]
  }
 ],
 "metadata": {
  "kernelspec": {
   "display_name": "base",
   "language": "python",
   "name": "python3"
  },
  "language_info": {
   "codemirror_mode": {
    "name": "ipython",
    "version": 3
   },
   "file_extension": ".py",
   "mimetype": "text/x-python",
   "name": "python",
   "nbconvert_exporter": "python",
   "pygments_lexer": "ipython3",
   "version": "3.11.7"
  }
 },
 "nbformat": 4,
 "nbformat_minor": 2
}
