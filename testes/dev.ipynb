{
 "cells": [
  {
   "cell_type": "code",
   "execution_count": 1,
   "metadata": {},
   "outputs": [],
   "source": [
    "from random import shuffle\n",
    "\n",
    "def instanciar_times_sem_nota(quantidade_de_times: int, quantidade_players_por_time: int)->list:\n",
    "    players = []\n",
    "    total_jogadores = quantidade_de_times * quantidade_players_por_time\n",
    "\n",
    "    for i in range(total_jogadores):\n",
    "        nome = input(\"Digite o nome do jogador: \")\n",
    "        players.append(nome)  \n",
    "    return players\n",
    "\n",
    "def instanciar_times_com_nota(quantidade_de_times: int, quantidade_players_por_time: int)->list[tuple]:\n",
    "    players = []\n",
    "    total_jogadores = quantidade_de_times * quantidade_players_por_time\n",
    "\n",
    "    for i in range(total_jogadores):\n",
    "        nome = input(\"Digite o nome do jogador: \")\n",
    "        nota = float(input(\"Digite a nota do jogador: \"))\n",
    "        player = (nome, nota)\n",
    "        players.append(player)  \n",
    "\n",
    "    return players\n",
    "\n",
    "\n",
    "def sortear_times_sem_nota(players: list, quantidade_de_times: int, quantidade_players_por_time: int)->list[list]:\n",
    "\n",
    "    shuffle(players)\n",
    "    times = []\n",
    "    for i in range(quantidade_de_times):\n",
    "        time = []\n",
    "        for j in range(quantidade_players_por_time):\n",
    "            time.append(players.pop())\n",
    "        times.append(time)\n",
    "    return times\n",
    "\n",
    "def sortear_times_com_nota(players: list[tuple], quantidade_de_times: int, quantidade_players_por_time: int)->list[list]:\n",
    "    times = [[] for i in range(quantidade_de_times)]\n",
    "    valor_de_cada_time = [{i : 0} for i in range(quantidade_de_times)]\n",
    "    players.sort(key=lambda x: x[1], reverse=True)\n",
    "\n",
    "    for i in range(quantidade_de_times):\n",
    "        player = players.pop(0)\n",
    "        valor_de_cada_time[i][i] += player[1]\n",
    "        \n",
    "        times[i].append(player)\n",
    "\n",
    "    valor_de_cada_time.sort(key=lambda x: list(x.values())[0], reverse=False)\n",
    "\n",
    "    for i in range(quantidade_players_por_time - 1):\n",
    "        ordem = [list(dicts.keys())[0] for dicts in valor_de_cada_time]\n",
    "\n",
    "        for index_loop, index_time in enumerate(ordem):\n",
    "            if len(players)== 0:\n",
    "                break\n",
    "            player = players.pop(0)\n",
    "            times[index_time].append(player)\n",
    "            valor_de_cada_time[index_loop][index_time] += player[1]\n",
    "        \n",
    "        valor_de_cada_time.sort(key=lambda x: list(x.values())[0], reverse=False)\n",
    "\n",
    "    return times\n",
    "\n",
    "\n",
    "\n",
    "\n",
    "\n",
    "\n"
   ]
  },
  {
   "cell_type": "code",
   "execution_count": 2,
   "metadata": {},
   "outputs": [],
   "source": [
    "deseja_atribuir_nota = False\n",
    "quantidade_de_times = 3\n",
    "quantidade_players_por_time = 5\n",
    "\n",
    "\n",
    "# players = instanciar_times_sem_nota(quantidade_de_times, quantidade_players_por_time)\n",
    "# times = sortear_times_sem_nota(players, quantidade_de_times, quantidade_players_por_time)\n",
    "\n"
   ]
  },
  {
   "cell_type": "code",
   "execution_count": 3,
   "metadata": {},
   "outputs": [],
   "source": [
    "timie = instanciar_times_com_nota(quantidade_de_times, quantidade_players_por_time)"
   ]
  },
  {
   "cell_type": "code",
   "execution_count": 147,
   "metadata": {},
   "outputs": [],
   "source": [
    "timebackup = timie"
   ]
  },
  {
   "cell_type": "code",
   "execution_count": 150,
   "metadata": {},
   "outputs": [
    {
     "data": {
      "text/plain": [
       "[('Alvaro', 4.0),\n",
       " ('Munaier', 4.0),\n",
       " ('Daniel', 4.5),\n",
       " ('Matheus pinto', 3.0),\n",
       " ('Jhon', 2.0),\n",
       " ('Clovis', 2.0),\n",
       " ('Jorgin', 4.5),\n",
       " ('Carbo no gol', 4.0),\n",
       " ('Tonigords', 4.0),\n",
       " ('Igin', 4.7),\n",
       " ('Delfino', 3.0),\n",
       " ('Markin', 4.0),\n",
       " ('Ricardo', 2.0),\n",
       " ('Gui', 2.0),\n",
       " ('Jackson', 4.0)]"
      ]
     },
     "execution_count": 150,
     "metadata": {},
     "output_type": "execute_result"
    }
   ],
   "source": [
    "timie"
   ]
  },
  {
   "cell_type": "code",
   "execution_count": 140,
   "metadata": {},
   "outputs": [],
   "source": [
    "timi = [('Rodrigo', 4),\n",
    " ('Munas', 5),\n",
    " ('Erick', 4),\n",
    " ('Clovis', 3),\n",
    " ('Alvaro', 3),\n",
    " ('Ramon', 3),\n",
    " ('Fabegras', 5),\n",
    " ('naldo', 2),\n",
    " ('sk23', 4),\n",
    " ('asdajs', 2),\n",
    " ('sadjj', 3),\n",
    " ('askjdkj', 2),\n",
    " ('skdfgkhkhk', 4),\n",
    " ('aksdkasdksak', 1)\n",
    " ]"
   ]
  },
  {
   "cell_type": "code",
   "execution_count": 4,
   "metadata": {},
   "outputs": [],
   "source": [
    "times_balanceados = sortear_times_com_nota(timie, quantidade_de_times, quantidade_players_por_time)\n"
   ]
  },
  {
   "cell_type": "code",
   "execution_count": 5,
   "metadata": {},
   "outputs": [],
   "source": [
    "times_balanceados = sorted(times_balanceados, key=len, reverse=True)"
   ]
  },
  {
   "cell_type": "code",
   "execution_count": 6,
   "metadata": {},
   "outputs": [
    {
     "name": "stdout",
     "output_type": "stream",
     "text": [
      "Jogador: Rodrigo - Nota: 5.0\n",
      "Jogador: Markin - Nota: 5.0\n",
      "Jogador: Munaier - Nota: 2.5\n",
      "Jogador: askdkasd - Nota: 2.0\n",
      "Jogador: Gustavo - Nota: 0.2\n",
      "\n",
      "Nota média do time: 2.94\n",
      "Nota total do time: 14.7\n",
      "------------------------------\n",
      "Jogador: Clovao - Nota: 5.0\n",
      "Jogador: Jhon - Nota: 4.8\n",
      "Jogador: sakdfskdf - Nota: 3.0\n",
      "Jogador: Alvaro - Nota: 1.25\n",
      "Jogador: Motoca - Nota: 0.7\n",
      "\n",
      "Nota média do time: 2.95\n",
      "Nota total do time: 14.75\n",
      "------------------------------\n",
      "Jogador: Mateus pinto - Nota: 5.0\n",
      "Jogador: Marcos - Nota: 3.5\n",
      "Jogador: Ragi - Nota: 3.0\n",
      "Jogador: Delfino - Nota: 2.25\n",
      "Jogador: Caike - Nota: 1.0\n",
      "\n",
      "Nota média do time: 2.95\n",
      "Nota total do time: 14.75\n",
      "------------------------------\n"
     ]
    }
   ],
   "source": [
    "for time in times_balanceados:\n",
    "    nota_media_time = sum([player[1] for player in time]) / quantidade_players_por_time\n",
    "    nota_total_time = sum([player[1] for player in time])\n",
    "    for player in time:\n",
    "        print(f\"Jogador: {player[0]} - Nota: {player[1]}\")\n",
    "    print()\n",
    "    print(f\"Nota média do time: {nota_media_time}\")\n",
    "    print(f\"Nota total do time: {nota_total_time}\")\n",
    "    print(\"-\" * 30)"
   ]
  }
 ],
 "metadata": {
  "kernelspec": {
   "display_name": "base",
   "language": "python",
   "name": "python3"
  },
  "language_info": {
   "codemirror_mode": {
    "name": "ipython",
    "version": 3
   },
   "file_extension": ".py",
   "mimetype": "text/x-python",
   "name": "python",
   "nbconvert_exporter": "python",
   "pygments_lexer": "ipython3",
   "version": "3.11.7"
  }
 },
 "nbformat": 4,
 "nbformat_minor": 2
}
